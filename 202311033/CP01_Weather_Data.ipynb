{
 "cells": [
  {
   "cell_type": "markdown",
   "id": "a6a09600-9cc8-45eb-9bde-30fc28c777f9",
   "metadata": {},
   "source": [
    "# Weather Data\n",
    "**Source :** https://www.kaggle.com/datasets/amirhoseinsedaghati/the-weather-of-187-countries-in-2020"
   ]
  },
  {
   "cell_type": "markdown",
   "id": "f149e4f2-b344-4aa2-af55-82ace8f485ec",
   "metadata": {
    "jp-MarkdownHeadingCollapsed": true
   },
   "source": [
    "## Data Loading\n",
    "There are two datasets given, but only one dataset appears to be of interest, so the rest of the project, `the weather of 155 countries in 2020.csv`, is being followed."
   ]
  },
  {
   "cell_type": "code",
   "execution_count": 38,
   "id": "73f6db04-8f1b-4731-a012-26a1b0bdea95",
   "metadata": {},
   "outputs": [],
   "source": [
    "import pandas as pd"
   ]
  },
  {
   "cell_type": "code",
   "execution_count": 65,
   "id": "14ae6908-e861-470a-a8f3-58ea989a563d",
   "metadata": {},
   "outputs": [
    {
     "data": {
      "text/html": [
       "<div>\n",
       "<style scoped>\n",
       "    .dataframe tbody tr th:only-of-type {\n",
       "        vertical-align: middle;\n",
       "    }\n",
       "\n",
       "    .dataframe tbody tr th {\n",
       "        vertical-align: top;\n",
       "    }\n",
       "\n",
       "    .dataframe thead th {\n",
       "        text-align: right;\n",
       "    }\n",
       "</style>\n",
       "<table border=\"1\" class=\"dataframe\">\n",
       "  <thead>\n",
       "    <tr style=\"text-align: right;\">\n",
       "      <th></th>\n",
       "      <th>STATION</th>\n",
       "      <th>Country/Region</th>\n",
       "      <th>DATE</th>\n",
       "      <th>Year</th>\n",
       "      <th>Month</th>\n",
       "      <th>Day</th>\n",
       "      <th>PRCP</th>\n",
       "      <th>SNWD</th>\n",
       "      <th>TAVG</th>\n",
       "      <th>TMAX</th>\n",
       "      <th>...</th>\n",
       "      <th>LONGITUDE</th>\n",
       "      <th>ELEVATION</th>\n",
       "      <th>PRCP_ATTRIBUTES</th>\n",
       "      <th>TAVG_ATTRIBUTES</th>\n",
       "      <th>TMAX_ATTRIBUTES</th>\n",
       "      <th>TMIN_ATTRIBUTES</th>\n",
       "      <th>DAPR</th>\n",
       "      <th>MDPR</th>\n",
       "      <th>WESD</th>\n",
       "      <th>SNWD_ATTRIBUTES</th>\n",
       "    </tr>\n",
       "  </thead>\n",
       "  <tbody>\n",
       "    <tr>\n",
       "      <th>0</th>\n",
       "      <td>TZ000063894</td>\n",
       "      <td>Comoros</td>\n",
       "      <td>2020-01-22</td>\n",
       "      <td>2020</td>\n",
       "      <td>1</td>\n",
       "      <td>22</td>\n",
       "      <td>10.9</td>\n",
       "      <td>NaN</td>\n",
       "      <td>27.6</td>\n",
       "      <td>30.2</td>\n",
       "      <td>...</td>\n",
       "      <td>NaN</td>\n",
       "      <td>NaN</td>\n",
       "      <td>NaN</td>\n",
       "      <td>NaN</td>\n",
       "      <td>NaN</td>\n",
       "      <td>NaN</td>\n",
       "      <td>NaN</td>\n",
       "      <td>NaN</td>\n",
       "      <td>NaN</td>\n",
       "      <td>NaN</td>\n",
       "    </tr>\n",
       "    <tr>\n",
       "      <th>1</th>\n",
       "      <td>TZ000063894</td>\n",
       "      <td>Comoros</td>\n",
       "      <td>2020-01-23</td>\n",
       "      <td>2020</td>\n",
       "      <td>1</td>\n",
       "      <td>23</td>\n",
       "      <td>0.0</td>\n",
       "      <td>NaN</td>\n",
       "      <td>26.7</td>\n",
       "      <td>NaN</td>\n",
       "      <td>...</td>\n",
       "      <td>NaN</td>\n",
       "      <td>NaN</td>\n",
       "      <td>NaN</td>\n",
       "      <td>NaN</td>\n",
       "      <td>NaN</td>\n",
       "      <td>NaN</td>\n",
       "      <td>NaN</td>\n",
       "      <td>NaN</td>\n",
       "      <td>NaN</td>\n",
       "      <td>NaN</td>\n",
       "    </tr>\n",
       "    <tr>\n",
       "      <th>2</th>\n",
       "      <td>TZ000063894</td>\n",
       "      <td>Comoros</td>\n",
       "      <td>2020-01-24</td>\n",
       "      <td>2020</td>\n",
       "      <td>1</td>\n",
       "      <td>24</td>\n",
       "      <td>9.4</td>\n",
       "      <td>NaN</td>\n",
       "      <td>27.9</td>\n",
       "      <td>30.6</td>\n",
       "      <td>...</td>\n",
       "      <td>NaN</td>\n",
       "      <td>NaN</td>\n",
       "      <td>NaN</td>\n",
       "      <td>NaN</td>\n",
       "      <td>NaN</td>\n",
       "      <td>NaN</td>\n",
       "      <td>NaN</td>\n",
       "      <td>NaN</td>\n",
       "      <td>NaN</td>\n",
       "      <td>NaN</td>\n",
       "    </tr>\n",
       "    <tr>\n",
       "      <th>3</th>\n",
       "      <td>TZ000063894</td>\n",
       "      <td>Comoros</td>\n",
       "      <td>2020-01-25</td>\n",
       "      <td>2020</td>\n",
       "      <td>1</td>\n",
       "      <td>25</td>\n",
       "      <td>0.3</td>\n",
       "      <td>NaN</td>\n",
       "      <td>27.9</td>\n",
       "      <td>30.2</td>\n",
       "      <td>...</td>\n",
       "      <td>NaN</td>\n",
       "      <td>NaN</td>\n",
       "      <td>NaN</td>\n",
       "      <td>NaN</td>\n",
       "      <td>NaN</td>\n",
       "      <td>NaN</td>\n",
       "      <td>NaN</td>\n",
       "      <td>NaN</td>\n",
       "      <td>NaN</td>\n",
       "      <td>NaN</td>\n",
       "    </tr>\n",
       "    <tr>\n",
       "      <th>4</th>\n",
       "      <td>TZ000063894</td>\n",
       "      <td>Comoros</td>\n",
       "      <td>2020-01-26</td>\n",
       "      <td>2020</td>\n",
       "      <td>1</td>\n",
       "      <td>26</td>\n",
       "      <td>0.0</td>\n",
       "      <td>NaN</td>\n",
       "      <td>28.2</td>\n",
       "      <td>31.5</td>\n",
       "      <td>...</td>\n",
       "      <td>NaN</td>\n",
       "      <td>NaN</td>\n",
       "      <td>NaN</td>\n",
       "      <td>NaN</td>\n",
       "      <td>NaN</td>\n",
       "      <td>NaN</td>\n",
       "      <td>NaN</td>\n",
       "      <td>NaN</td>\n",
       "      <td>NaN</td>\n",
       "      <td>NaN</td>\n",
       "    </tr>\n",
       "  </tbody>\n",
       "</table>\n",
       "<p>5 rows × 23 columns</p>\n",
       "</div>"
      ],
      "text/plain": [
       "       STATION Country/Region        DATE  Year  Month  Day  PRCP  SNWD  TAVG  \\\n",
       "0  TZ000063894        Comoros  2020-01-22  2020      1   22  10.9   NaN  27.6   \n",
       "1  TZ000063894        Comoros  2020-01-23  2020      1   23   0.0   NaN  26.7   \n",
       "2  TZ000063894        Comoros  2020-01-24  2020      1   24   9.4   NaN  27.9   \n",
       "3  TZ000063894        Comoros  2020-01-25  2020      1   25   0.3   NaN  27.9   \n",
       "4  TZ000063894        Comoros  2020-01-26  2020      1   26   0.0   NaN  28.2   \n",
       "\n",
       "   TMAX  ...  LONGITUDE  ELEVATION  PRCP_ATTRIBUTES  TAVG_ATTRIBUTES  \\\n",
       "0  30.2  ...        NaN        NaN              NaN              NaN   \n",
       "1   NaN  ...        NaN        NaN              NaN              NaN   \n",
       "2  30.6  ...        NaN        NaN              NaN              NaN   \n",
       "3  30.2  ...        NaN        NaN              NaN              NaN   \n",
       "4  31.5  ...        NaN        NaN              NaN              NaN   \n",
       "\n",
       "   TMAX_ATTRIBUTES TMIN_ATTRIBUTES DAPR MDPR WESD  SNWD_ATTRIBUTES  \n",
       "0              NaN             NaN  NaN  NaN  NaN              NaN  \n",
       "1              NaN             NaN  NaN  NaN  NaN              NaN  \n",
       "2              NaN             NaN  NaN  NaN  NaN              NaN  \n",
       "3              NaN             NaN  NaN  NaN  NaN              NaN  \n",
       "4              NaN             NaN  NaN  NaN  NaN              NaN  \n",
       "\n",
       "[5 rows x 23 columns]"
      ]
     },
     "execution_count": 65,
     "metadata": {},
     "output_type": "execute_result"
    }
   ],
   "source": [
    "weather_155_df = pd.read_csv(\"the weather of 155 countries in 2020.csv\", low_memory=False)\n",
    "weather_155_df.head()"
   ]
  },
  {
   "cell_type": "code",
   "execution_count": 40,
   "id": "9f7bea46-74a4-4f57-80b1-718ba6cdf2d0",
   "metadata": {},
   "outputs": [],
   "source": [
    "weather_155_chi_df = weather_155_df[weather_155_df[\"Country/Region\"] == 'China']"
   ]
  },
  {
   "cell_type": "code",
   "execution_count": 41,
   "id": "153ee095-0cab-485d-bdf3-80a57344a53f",
   "metadata": {},
   "outputs": [
    {
     "name": "stdout",
     "output_type": "stream",
     "text": [
      "<class 'pandas.core.frame.DataFrame'>\n",
      "Index: 38949 entries, 65576 to 104524\n",
      "Data columns (total 23 columns):\n",
      " #   Column           Non-Null Count  Dtype  \n",
      "---  ------           --------------  -----  \n",
      " 0   STATION          38949 non-null  object \n",
      " 1   Country/Region   38949 non-null  object \n",
      " 2   DATE             38949 non-null  object \n",
      " 3   Year             38949 non-null  int64  \n",
      " 4   Month            38949 non-null  int64  \n",
      " 5   Day              38949 non-null  int64  \n",
      " 6   PRCP             37457 non-null  float64\n",
      " 7   SNWD             2056 non-null   float64\n",
      " 8   TAVG             38949 non-null  float64\n",
      " 9   TMAX             36513 non-null  float64\n",
      " 10  TMIN             36320 non-null  float64\n",
      " 11  SNOW             0 non-null      float64\n",
      " 12  LATITUDE         38949 non-null  float64\n",
      " 13  LONGITUDE        38949 non-null  float64\n",
      " 14  ELEVATION        38949 non-null  float64\n",
      " 15  PRCP_ATTRIBUTES  0 non-null      object \n",
      " 16  TAVG_ATTRIBUTES  0 non-null      object \n",
      " 17  TMAX_ATTRIBUTES  0 non-null      object \n",
      " 18  TMIN_ATTRIBUTES  0 non-null      object \n",
      " 19  DAPR             0 non-null      float64\n",
      " 20  MDPR             0 non-null      float64\n",
      " 21  WESD             0 non-null      float64\n",
      " 22  SNWD_ATTRIBUTES  0 non-null      object \n",
      "dtypes: float64(12), int64(3), object(8)\n",
      "memory usage: 7.1+ MB\n"
     ]
    }
   ],
   "source": [
    "weather_155_chi_df.info()"
   ]
  },
  {
   "cell_type": "code",
   "execution_count": 42,
   "id": "f1c6f171-fa59-4fbd-9472-a2dc87d12288",
   "metadata": {},
   "outputs": [
    {
     "data": {
      "text/html": [
       "<div>\n",
       "<style scoped>\n",
       "    .dataframe tbody tr th:only-of-type {\n",
       "        vertical-align: middle;\n",
       "    }\n",
       "\n",
       "    .dataframe tbody tr th {\n",
       "        vertical-align: top;\n",
       "    }\n",
       "\n",
       "    .dataframe thead th {\n",
       "        text-align: right;\n",
       "    }\n",
       "</style>\n",
       "<table border=\"1\" class=\"dataframe\">\n",
       "  <thead>\n",
       "    <tr style=\"text-align: right;\">\n",
       "      <th></th>\n",
       "      <th>STATION</th>\n",
       "      <th>Country/Region</th>\n",
       "      <th>DATE</th>\n",
       "      <th>Year</th>\n",
       "      <th>Month</th>\n",
       "      <th>Day</th>\n",
       "      <th>PRCP</th>\n",
       "      <th>SNWD</th>\n",
       "      <th>TAVG</th>\n",
       "      <th>TMAX</th>\n",
       "      <th>...</th>\n",
       "      <th>LONGITUDE</th>\n",
       "      <th>ELEVATION</th>\n",
       "      <th>PRCP_ATTRIBUTES</th>\n",
       "      <th>TAVG_ATTRIBUTES</th>\n",
       "      <th>TMAX_ATTRIBUTES</th>\n",
       "      <th>TMIN_ATTRIBUTES</th>\n",
       "      <th>DAPR</th>\n",
       "      <th>MDPR</th>\n",
       "      <th>WESD</th>\n",
       "      <th>SNWD_ATTRIBUTES</th>\n",
       "    </tr>\n",
       "  </thead>\n",
       "  <tbody>\n",
       "    <tr>\n",
       "      <th>0</th>\n",
       "      <td>TZ000063894</td>\n",
       "      <td>Comoros</td>\n",
       "      <td>2020-01-22</td>\n",
       "      <td>2020</td>\n",
       "      <td>1</td>\n",
       "      <td>22</td>\n",
       "      <td>10.9</td>\n",
       "      <td>NaN</td>\n",
       "      <td>27.6</td>\n",
       "      <td>30.2</td>\n",
       "      <td>...</td>\n",
       "      <td>NaN</td>\n",
       "      <td>NaN</td>\n",
       "      <td>NaN</td>\n",
       "      <td>NaN</td>\n",
       "      <td>NaN</td>\n",
       "      <td>NaN</td>\n",
       "      <td>NaN</td>\n",
       "      <td>NaN</td>\n",
       "      <td>NaN</td>\n",
       "      <td>NaN</td>\n",
       "    </tr>\n",
       "    <tr>\n",
       "      <th>1</th>\n",
       "      <td>TZ000063894</td>\n",
       "      <td>Comoros</td>\n",
       "      <td>2020-01-23</td>\n",
       "      <td>2020</td>\n",
       "      <td>1</td>\n",
       "      <td>23</td>\n",
       "      <td>0.0</td>\n",
       "      <td>NaN</td>\n",
       "      <td>26.7</td>\n",
       "      <td>NaN</td>\n",
       "      <td>...</td>\n",
       "      <td>NaN</td>\n",
       "      <td>NaN</td>\n",
       "      <td>NaN</td>\n",
       "      <td>NaN</td>\n",
       "      <td>NaN</td>\n",
       "      <td>NaN</td>\n",
       "      <td>NaN</td>\n",
       "      <td>NaN</td>\n",
       "      <td>NaN</td>\n",
       "      <td>NaN</td>\n",
       "    </tr>\n",
       "    <tr>\n",
       "      <th>2</th>\n",
       "      <td>TZ000063894</td>\n",
       "      <td>Comoros</td>\n",
       "      <td>2020-01-24</td>\n",
       "      <td>2020</td>\n",
       "      <td>1</td>\n",
       "      <td>24</td>\n",
       "      <td>9.4</td>\n",
       "      <td>NaN</td>\n",
       "      <td>27.9</td>\n",
       "      <td>30.6</td>\n",
       "      <td>...</td>\n",
       "      <td>NaN</td>\n",
       "      <td>NaN</td>\n",
       "      <td>NaN</td>\n",
       "      <td>NaN</td>\n",
       "      <td>NaN</td>\n",
       "      <td>NaN</td>\n",
       "      <td>NaN</td>\n",
       "      <td>NaN</td>\n",
       "      <td>NaN</td>\n",
       "      <td>NaN</td>\n",
       "    </tr>\n",
       "    <tr>\n",
       "      <th>3</th>\n",
       "      <td>TZ000063894</td>\n",
       "      <td>Comoros</td>\n",
       "      <td>2020-01-25</td>\n",
       "      <td>2020</td>\n",
       "      <td>1</td>\n",
       "      <td>25</td>\n",
       "      <td>0.3</td>\n",
       "      <td>NaN</td>\n",
       "      <td>27.9</td>\n",
       "      <td>30.2</td>\n",
       "      <td>...</td>\n",
       "      <td>NaN</td>\n",
       "      <td>NaN</td>\n",
       "      <td>NaN</td>\n",
       "      <td>NaN</td>\n",
       "      <td>NaN</td>\n",
       "      <td>NaN</td>\n",
       "      <td>NaN</td>\n",
       "      <td>NaN</td>\n",
       "      <td>NaN</td>\n",
       "      <td>NaN</td>\n",
       "    </tr>\n",
       "    <tr>\n",
       "      <th>4</th>\n",
       "      <td>TZ000063894</td>\n",
       "      <td>Comoros</td>\n",
       "      <td>2020-01-26</td>\n",
       "      <td>2020</td>\n",
       "      <td>1</td>\n",
       "      <td>26</td>\n",
       "      <td>0.0</td>\n",
       "      <td>NaN</td>\n",
       "      <td>28.2</td>\n",
       "      <td>31.5</td>\n",
       "      <td>...</td>\n",
       "      <td>NaN</td>\n",
       "      <td>NaN</td>\n",
       "      <td>NaN</td>\n",
       "      <td>NaN</td>\n",
       "      <td>NaN</td>\n",
       "      <td>NaN</td>\n",
       "      <td>NaN</td>\n",
       "      <td>NaN</td>\n",
       "      <td>NaN</td>\n",
       "      <td>NaN</td>\n",
       "    </tr>\n",
       "  </tbody>\n",
       "</table>\n",
       "<p>5 rows × 23 columns</p>\n",
       "</div>"
      ],
      "text/plain": [
       "       STATION Country/Region        DATE  Year  Month  Day  PRCP  SNWD  TAVG  \\\n",
       "0  TZ000063894        Comoros  2020-01-22  2020      1   22  10.9   NaN  27.6   \n",
       "1  TZ000063894        Comoros  2020-01-23  2020      1   23   0.0   NaN  26.7   \n",
       "2  TZ000063894        Comoros  2020-01-24  2020      1   24   9.4   NaN  27.9   \n",
       "3  TZ000063894        Comoros  2020-01-25  2020      1   25   0.3   NaN  27.9   \n",
       "4  TZ000063894        Comoros  2020-01-26  2020      1   26   0.0   NaN  28.2   \n",
       "\n",
       "   TMAX  ...  LONGITUDE  ELEVATION  PRCP_ATTRIBUTES  TAVG_ATTRIBUTES  \\\n",
       "0  30.2  ...        NaN        NaN              NaN              NaN   \n",
       "1   NaN  ...        NaN        NaN              NaN              NaN   \n",
       "2  30.6  ...        NaN        NaN              NaN              NaN   \n",
       "3  30.2  ...        NaN        NaN              NaN              NaN   \n",
       "4  31.5  ...        NaN        NaN              NaN              NaN   \n",
       "\n",
       "   TMAX_ATTRIBUTES TMIN_ATTRIBUTES DAPR MDPR WESD  SNWD_ATTRIBUTES  \n",
       "0              NaN             NaN  NaN  NaN  NaN              NaN  \n",
       "1              NaN             NaN  NaN  NaN  NaN              NaN  \n",
       "2              NaN             NaN  NaN  NaN  NaN              NaN  \n",
       "3              NaN             NaN  NaN  NaN  NaN              NaN  \n",
       "4              NaN             NaN  NaN  NaN  NaN              NaN  \n",
       "\n",
       "[5 rows x 23 columns]"
      ]
     },
     "execution_count": 42,
     "metadata": {},
     "output_type": "execute_result"
    }
   ],
   "source": [
    "weather_187_df = pd.read_csv(\"the weather of 187 countries in 2020.csv\", low_memory=False)\n",
    "weather_187_df.head()        "
   ]
  },
  {
   "cell_type": "markdown",
   "id": "2185fb1f-8990-4116-b8ae-0a65f9a6a24e",
   "metadata": {},
   "source": [
    "## Description"
   ]
  },
  {
   "cell_type": "markdown",
   "id": "d2f38ddc-93e3-49b3-9c96-45a7685d1397",
   "metadata": {
    "jp-MarkdownHeadingCollapsed": true
   },
   "source": [
    "### Columns"
   ]
  },
  {
   "cell_type": "code",
   "execution_count": 43,
   "id": "1145018d-8344-4364-8be1-d00778121ba7",
   "metadata": {
    "scrolled": true
   },
   "outputs": [
    {
     "data": {
      "text/plain": [
       "['STATION',\n",
       " 'Country/Region',\n",
       " 'DATE',\n",
       " 'Year',\n",
       " 'Month',\n",
       " 'Day',\n",
       " 'PRCP',\n",
       " 'SNWD',\n",
       " 'TAVG',\n",
       " 'TMAX',\n",
       " 'TMIN',\n",
       " 'SNOW',\n",
       " 'LATITUDE',\n",
       " 'LONGITUDE',\n",
       " 'ELEVATION',\n",
       " 'PRCP_ATTRIBUTES',\n",
       " 'TAVG_ATTRIBUTES',\n",
       " 'TMAX_ATTRIBUTES',\n",
       " 'TMIN_ATTRIBUTES',\n",
       " 'DAPR',\n",
       " 'MDPR',\n",
       " 'WESD',\n",
       " 'SNWD_ATTRIBUTES']"
      ]
     },
     "execution_count": 43,
     "metadata": {},
     "output_type": "execute_result"
    }
   ],
   "source": [
    "weather_155_df.columns.tolist()"
   ]
  },
  {
   "cell_type": "markdown",
   "id": "00c252ed-5b49-4761-b178-78c0f176fc17",
   "metadata": {},
   "source": [
    "**Columns Description:**\r\n",
    "\r\n",
    "- **STATION**: The station identifier\r\n",
    "- **Country/Region**: The country or region where the station is located\r\n",
    "- **DATE**: The date of the weather observation in YYYY-MM-DD format\r\n",
    "- **Year**: The year of the weather observation\r\n",
    "- **Month**: The month of the weather observation\r\n",
    "- **Day**: The day of the weather observation\r\n",
    "- **PRCP**: The amount of precipitation (rain or snow)\r\n",
    "- **SNWD**: The depth of snow on the ground\r\n",
    "- **TAVG**: The average temperature\r\n",
    "- **TMAX**: The maximum temperature\r\n",
    "- **TMIN**: The minimum temperature\r\n",
    "- **SNOW**: The amount of snowfall\r\n",
    "- **LATITUDE**: The latitude of the station's location\r\n",
    "- **LONGITUDE**: The longitude of the station's location\r\n",
    "- **ELEVATION**: The elevation of the station's location\r\n",
    "- **PRCP_ATTRIBUTES**: Additional attributes for the precipitation data\r\n",
    "- **TAVG_ATTRIBUTES**: Additional attributes for the average temperature data\r\n",
    "- **TMAX_ATTRIBUTES**: Additional attributes for the maximum temperature data\r\n",
    "- **TMIN_ATTRIBUTES**: Additional attributes for the minimum temperature data\r\n",
    "- **DAPR**: The number of days since the last precipitation of any amount\r\n",
    "- **MDPR**: The multiday precipitation total\r\n",
    "- **WESD**: The water equivalent of the snow depth on the ground\r\n",
    "- **SNWD_ATTRIBUTES**: Additional attributes for the snow depth data\r\n",
    "for the snow depth data"
   ]
  },
  {
   "cell_type": "markdown",
   "id": "da2e96fa-eccc-4c21-b949-cd7ac731e178",
   "metadata": {
    "jp-MarkdownHeadingCollapsed": true
   },
   "source": [
    "### Attribute Types"
   ]
  },
  {
   "cell_type": "code",
   "execution_count": 44,
   "id": "874207b2-7596-4509-8fd6-6a85a1069bad",
   "metadata": {},
   "outputs": [
    {
     "data": {
      "text/plain": [
       "STATION             object\n",
       "Country/Region      object\n",
       "DATE                object\n",
       "Year                 int64\n",
       "Month                int64\n",
       "Day                  int64\n",
       "PRCP               float64\n",
       "SNWD               float64\n",
       "TAVG               float64\n",
       "TMAX               float64\n",
       "TMIN               float64\n",
       "SNOW               float64\n",
       "LATITUDE           float64\n",
       "LONGITUDE          float64\n",
       "ELEVATION          float64\n",
       "PRCP_ATTRIBUTES     object\n",
       "TAVG_ATTRIBUTES     object\n",
       "TMAX_ATTRIBUTES     object\n",
       "TMIN_ATTRIBUTES     object\n",
       "DAPR               float64\n",
       "MDPR               float64\n",
       "WESD               float64\n",
       "SNWD_ATTRIBUTES     object\n",
       "dtype: object"
      ]
     },
     "execution_count": 44,
     "metadata": {},
     "output_type": "execute_result"
    }
   ],
   "source": [
    "weather_155_df.dtypes"
   ]
  },
  {
   "cell_type": "markdown",
   "id": "6b3ecaf8-ee05-4dc4-80fa-bb38f2dba78d",
   "metadata": {
    "jp-MarkdownHeadingCollapsed": true
   },
   "source": [
    "### `Null` Values"
   ]
  },
  {
   "cell_type": "code",
   "execution_count": 45,
   "id": "320af3cd-0bc3-4e4d-984a-3acbd2e1f4d2",
   "metadata": {},
   "outputs": [
    {
     "data": {
      "text/plain": [
       "STATION                  0\n",
       "Country/Region           0\n",
       "DATE                     0\n",
       "Year                     0\n",
       "Month                    0\n",
       "Day                      0\n",
       "PRCP                307737\n",
       "SNWD                811769\n",
       "TAVG                236346\n",
       "TMAX                373484\n",
       "TMIN                345959\n",
       "SNOW                922128\n",
       "LATITUDE            923812\n",
       "LONGITUDE           923812\n",
       "ELEVATION           923812\n",
       "PRCP_ATTRIBUTES    1020112\n",
       "TAVG_ATTRIBUTES    1022269\n",
       "TMAX_ATTRIBUTES    1020482\n",
       "TMIN_ATTRIBUTES    1020245\n",
       "DAPR               1024856\n",
       "MDPR               1026038\n",
       "WESD               1026117\n",
       "SNWD_ATTRIBUTES    1025765\n",
       "dtype: int64"
      ]
     },
     "execution_count": 45,
     "metadata": {},
     "output_type": "execute_result"
    }
   ],
   "source": [
    "weather_155_df.isnull().sum()"
   ]
  },
  {
   "cell_type": "code",
   "execution_count": 46,
   "id": "27d3be37-6693-4150-93fa-b9cfa8bf072d",
   "metadata": {},
   "outputs": [
    {
     "data": {
      "text/plain": [
       "STATION                  0\n",
       "Country/Region           0\n",
       "DATE                     0\n",
       "Year                     0\n",
       "Month                    0\n",
       "Day                      0\n",
       "PRCP                307737\n",
       "SNWD                811769\n",
       "TAVG                236346\n",
       "TMAX                373484\n",
       "TMIN                345959\n",
       "SNOW                922128\n",
       "LATITUDE            923812\n",
       "LONGITUDE           923812\n",
       "ELEVATION           923812\n",
       "PRCP_ATTRIBUTES    1020112\n",
       "TAVG_ATTRIBUTES    1022269\n",
       "TMAX_ATTRIBUTES    1020482\n",
       "TMIN_ATTRIBUTES    1020245\n",
       "DAPR               1024856\n",
       "MDPR               1026038\n",
       "WESD               1026117\n",
       "SNWD_ATTRIBUTES    1025765\n",
       "dtype: int64"
      ]
     },
     "execution_count": 46,
     "metadata": {},
     "output_type": "execute_result"
    }
   ],
   "source": [
    "weather_155_df.isnull().sum()"
   ]
  },
  {
   "cell_type": "markdown",
   "id": "d11d4183-6fc4-40a5-958d-6e17c39afe3f",
   "metadata": {
    "jp-MarkdownHeadingCollapsed": true
   },
   "source": [
    "### Attribute Description (Summary)"
   ]
  },
  {
   "cell_type": "code",
   "execution_count": 47,
   "id": "1f953c6d-a66d-42f8-9b38-f26107adf31e",
   "metadata": {},
   "outputs": [
    {
     "name": "stdout",
     "output_type": "stream",
     "text": [
      "<class 'pandas.core.frame.DataFrame'>\n",
      "RangeIndex: 1026119 entries, 0 to 1026118\n",
      "Data columns (total 23 columns):\n",
      " #   Column           Non-Null Count    Dtype  \n",
      "---  ------           --------------    -----  \n",
      " 0   STATION          1026119 non-null  object \n",
      " 1   Country/Region   1026119 non-null  object \n",
      " 2   DATE             1026119 non-null  object \n",
      " 3   Year             1026119 non-null  int64  \n",
      " 4   Month            1026119 non-null  int64  \n",
      " 5   Day              1026119 non-null  int64  \n",
      " 6   PRCP             718382 non-null   float64\n",
      " 7   SNWD             214350 non-null   float64\n",
      " 8   TAVG             789773 non-null   float64\n",
      " 9   TMAX             652635 non-null   float64\n",
      " 10  TMIN             680160 non-null   float64\n",
      " 11  SNOW             103991 non-null   float64\n",
      " 12  LATITUDE         102307 non-null   float64\n",
      " 13  LONGITUDE        102307 non-null   float64\n",
      " 14  ELEVATION        102307 non-null   float64\n",
      " 15  PRCP_ATTRIBUTES  6007 non-null     object \n",
      " 16  TAVG_ATTRIBUTES  3850 non-null     object \n",
      " 17  TMAX_ATTRIBUTES  5637 non-null     object \n",
      " 18  TMIN_ATTRIBUTES  5874 non-null     object \n",
      " 19  DAPR             1263 non-null     float64\n",
      " 20  MDPR             81 non-null       float64\n",
      " 21  WESD             2 non-null        float64\n",
      " 22  SNWD_ATTRIBUTES  354 non-null      object \n",
      "dtypes: float64(12), int64(3), object(8)\n",
      "memory usage: 180.1+ MB\n"
     ]
    }
   ],
   "source": [
    "weather_155_df.info()"
   ]
  },
  {
   "cell_type": "markdown",
   "id": "85ced419-869c-4767-9470-61ade99f6d05",
   "metadata": {
    "jp-MarkdownHeadingCollapsed": true
   },
   "source": [
    "## Data Visualization"
   ]
  },
  {
   "cell_type": "code",
   "execution_count": 48,
   "id": "a7188bae-842d-4abd-8de3-c65564f37edb",
   "metadata": {},
   "outputs": [],
   "source": [
    "import matplotlib.pyplot as plt\n",
    "import seaborn as sns"
   ]
  },
  {
   "cell_type": "code",
   "execution_count": 49,
   "id": "cf158dde-27cb-44db-bc34-59c6e0c8a403",
   "metadata": {},
   "outputs": [
    {
     "data": {
      "text/plain": [
       "array(['Comoros', 'Georgia', 'Nepal', 'Philippines', 'Monaco', 'US',\n",
       "       'Australia', 'Namibia', 'Saint Lucia', 'Lebanon', 'Zambia',\n",
       "       'Malaysia', 'Peru', 'Kenya', 'Belarus', 'Iceland', 'Lesotho',\n",
       "       'Venezuela', 'Albania', 'Tanzania', 'Greece', 'Barbados',\n",
       "       'Singapore', 'Switzerland', 'Sri Lanka', 'China', 'Gabon',\n",
       "       'Guinea-Bissau', 'Congo (Brazzaville)', 'United Arab Emirates',\n",
       "       'Tajikistan', 'Syria', 'Lithuania', 'Paraguay', 'Romania',\n",
       "       'Maldives', 'Jamaica', 'Kuwait', 'Finland', 'Argentina',\n",
       "       'Ethiopia', 'Japan', 'Cameroon', 'Bhutan', 'Botswana', 'Pakistan',\n",
       "       'Brazil', 'Madagascar', 'Eritrea', 'Liberia', 'Mali', 'Thailand',\n",
       "       'Egypt', 'Ireland', 'Belgium', 'Luxembourg', 'Fiji', 'Italy',\n",
       "       'Greenland', 'Antigua and Barbuda',\n",
       "       'Saint Vincent and the Grenadines', 'Andorra', 'Guinea', 'Nigeria',\n",
       "       'Ecuador', 'Guatemala', 'Afghanistan', 'Suriname', 'Djibouti',\n",
       "       'Uganda', 'Niger', 'Israel', 'Russia', 'Chile', 'Mexico',\n",
       "       'Seychelles', 'Bosnia and Herzegovina', 'Montenegro',\n",
       "       'Trinidad and Tobago', 'Togo', 'Panama', 'Denmark', 'Malta',\n",
       "       'Sierra Leone', 'Bahamas', 'Taiwan', 'Kyrgyzstan', 'South Africa',\n",
       "       'Sao Tome and Principe', 'New Zealand', 'France', 'Qatar',\n",
       "       'Angola', 'Belize', 'Azerbaijan', 'San Marino', 'Saudi Arabia',\n",
       "       'Serbia', 'Turkey', 'Cuba', 'Nicaragua', 'Uruguay', 'Jordan',\n",
       "       'Timor-Leste', 'Grenada', 'Slovenia', 'Portugal', 'Western Sahara',\n",
       "       'Costa Rica', 'Mauritius', 'Dominica', 'Bolivia', 'Cambodia',\n",
       "       'Austria', 'Poland', 'Czechia', 'India', 'Somalia', 'Algeria',\n",
       "       'Brunei', 'Latvia', 'Gambia', 'Uzbekistan', 'Armenia', 'Slovakia',\n",
       "       'North Macedonia', 'Guyana', 'Cyprus', 'United Kingdom',\n",
       "       \"Cote d'Ivoire\", 'Honduras', 'Mozambique', 'Oman', 'Iran',\n",
       "       'Mongolia', 'Hungary', 'West Bank and Gaza', 'Bahrain', 'Chad',\n",
       "       'Kazakhstan', 'Holy See', 'Congo (Kinshasa)', 'Burkina Faso',\n",
       "       'Dominican Republic', 'Ghana', 'Zimbabwe', 'Sudan', 'Benin',\n",
       "       'Estonia', 'Haiti', 'Indonesia', 'Saint Kitts and Nevis',\n",
       "       'Netherlands', 'Croatia', 'Canada'], dtype=object)"
      ]
     },
     "execution_count": 49,
     "metadata": {},
     "output_type": "execute_result"
    }
   ],
   "source": [
    "weather_155_df[\"Country/Region\"].unique()"
   ]
  },
  {
   "cell_type": "markdown",
   "id": "907bad64-1d74-4017-8a87-a1264113b58c",
   "metadata": {},
   "source": [
    "In the dataset minimum, maximum and average temperature is given of various countries. Every country follows different minimum, maximum and average temperature distribution according to it's geolocation.\n",
    "Distribution of Average temperature of India, China, Canada and United Kingdom is given below."
   ]
  },
  {
   "cell_type": "code",
   "execution_count": 59,
   "id": "dfc07920-9c4c-4668-ba50-43133baa2113",
   "metadata": {},
   "outputs": [
    {
     "data": {
      "text/plain": [
       "<matplotlib.legend.Legend at 0x1fa0d226750>"
      ]
     },
     "execution_count": 59,
     "metadata": {},
     "output_type": "execute_result"
    },
    {
     "data": {
      "image/png": "[encoded data removed]",
      "text/plain": [
       "<Figure size 640x480 with 1 Axes>"
      ]
     },
     "metadata": {},
     "output_type": "display_data"
    }
   ],
   "source": [
    "weather_155_df[weather_155_df[\"Country/Region\"] == 'India']['TAVG'].plot(kind='kde', label='India')\n",
    "weather_155_df[weather_155_df[\"Country/Region\"] == 'China']['TAVG'].plot(kind='kde', label='China')\n",
    "weather_155_df[weather_155_df[\"Country/Region\"] == 'Canada']['TAVG'].plot(kind='kde', label='Canada')\n",
    "weather_155_df[weather_155_df[\"Country/Region\"] == 'United Kingdom']['TAVG'].plot(kind='kde', label='United Kingdom')\n",
    "plt.legend()"
   ]
  },
  {
   "cell_type": "code",
   "execution_count": null,
   "id": "63bc18d7-ae1a-4b7b-be04-d2e190dfbd24",
   "metadata": {},
   "outputs": [],
   "source": []
  },
  {
   "cell_type": "markdown",
   "id": "9b3e8f91-f141-4146-bc7d-68154ab52818",
   "metadata": {
    "jp-MarkdownHeadingCollapsed": true
   },
   "source": [
    "## Preprocessing"
   ]
  },
  {
   "cell_type": "code",
   "execution_count": 51,
   "id": "b1e5666e-c8c2-4584-a6d9-d1f2848fb1e1",
   "metadata": {},
   "outputs": [
    {
     "data": {
      "text/plain": [
       "STATION                  0\n",
       "Country/Region           0\n",
       "DATE                     0\n",
       "Year                     0\n",
       "Month                    0\n",
       "Day                      0\n",
       "PRCP                307737\n",
       "SNWD                811769\n",
       "TAVG                236346\n",
       "TMAX                373484\n",
       "TMIN                345959\n",
       "SNOW                922128\n",
       "LATITUDE            923812\n",
       "LONGITUDE           923812\n",
       "ELEVATION           923812\n",
       "PRCP_ATTRIBUTES    1020112\n",
       "TAVG_ATTRIBUTES    1022269\n",
       "TMAX_ATTRIBUTES    1020482\n",
       "TMIN_ATTRIBUTES    1020245\n",
       "DAPR               1024856\n",
       "MDPR               1026038\n",
       "WESD               1026117\n",
       "SNWD_ATTRIBUTES    1025765\n",
       "dtype: int64"
      ]
     },
     "execution_count": 51,
     "metadata": {},
     "output_type": "execute_result"
    }
   ],
   "source": [
    "weather_155_df.isnull().sum()"
   ]
  },
  {
   "cell_type": "code",
   "execution_count": 52,
   "id": "f6e434fb-c747-44f5-a534-595e0098896a",
   "metadata": {},
   "outputs": [
    {
     "name": "stdout",
     "output_type": "stream",
     "text": [
      "Total Rows : 1026119\n"
     ]
    }
   ],
   "source": [
    "print(\"Total Rows :\",len(weather_155_df.index))"
   ]
  },
  {
   "cell_type": "markdown",
   "id": "7899ff55-7b6e-4ca0-9b2f-f069bca985d2",
   "metadata": {},
   "source": [
    "**Deleting the columns** that have large portion of values `null`."
   ]
  },
  {
   "cell_type": "code",
   "execution_count": 60,
   "id": "40fcfcae-6382-4658-88d0-d9ecf79fcfa5",
   "metadata": {},
   "outputs": [],
   "source": [
    "weather_155_final_df = weather_155_df.drop(['SNWD','SNOW','LATITUDE','LONGITUDE','ELEVATION','PRCP_ATTRIBUTES', 'TAVG_ATTRIBUTES', 'TMAX_ATTRIBUTES', 'TMIN_ATTRIBUTES', 'DAPR', 'MDPR', 'WESD', 'SNWD_ATTRIBUTES'], axis = 1)"
   ]
  },
  {
   "cell_type": "code",
   "execution_count": 54,
   "id": "30528cb9-029e-4a66-af21-3bdbe5f63be4",
   "metadata": {},
   "outputs": [
    {
     "data": {
      "text/plain": [
       "STATION                0\n",
       "Country/Region         0\n",
       "DATE                   0\n",
       "Year                   0\n",
       "Month                  0\n",
       "Day                    0\n",
       "PRCP              307737\n",
       "TAVG              236346\n",
       "TMAX              373484\n",
       "TMIN              345959\n",
       "dtype: int64"
      ]
     },
     "execution_count": 54,
     "metadata": {},
     "output_type": "execute_result"
    }
   ],
   "source": [
    "weather_155_final_df.isnull().sum()"
   ]
  },
  {
   "cell_type": "markdown",
   "id": "6d9160d0-b4af-442f-9cc6-ea87d50e5741",
   "metadata": {},
   "source": [
    "**Placing median on missing value** on the ramaining `null` rows."
   ]
  },
  {
   "cell_type": "code",
   "execution_count": 80,
   "id": "4b11f18b-1a22-4b6c-902d-a0be55c451d6",
   "metadata": {},
   "outputs": [],
   "source": [
    "variables = ['PRCP','TAVG', 'TMAX', 'TMIN']\n",
    "weather_155_final_df[variables] = weather_155_final_df[variables].fillna(weather_155_final_df[variables].median())"
   ]
  },
  {
   "cell_type": "code",
   "execution_count": 81,
   "id": "59afb270-8243-4c2f-8735-efd3f035a067",
   "metadata": {},
   "outputs": [
    {
     "data": {
      "text/plain": [
       "STATION                    0\n",
       "Country/Region             0\n",
       "DATE                       0\n",
       "Year                       0\n",
       "Month                      0\n",
       "Day                        0\n",
       "PRCP                       0\n",
       "TAVG                       0\n",
       "TMAX                       0\n",
       "TMIN                       0\n",
       "Country/Region_Category    0\n",
       "dtype: int64"
      ]
     },
     "execution_count": 81,
     "metadata": {},
     "output_type": "execute_result"
    }
   ],
   "source": [
    "weather_155_final_df.isnull().sum()"
   ]
  },
  {
   "cell_type": "markdown",
   "id": "a31af09f-8584-4277-81bf-cb4996e31011",
   "metadata": {},
   "source": [
    "**Adding category attribute for `Country/Region`**."
   ]
  },
  {
   "cell_type": "code",
   "execution_count": 63,
   "id": "6c87d413-39b2-4767-999f-f336f7e9fa08",
   "metadata": {},
   "outputs": [],
   "source": [
    "from sklearn import preprocessing\n",
    "\n",
    "le = preprocessing.LabelEncoder()\n",
    "\n",
    "le.fit(list(weather_155_final_df['Country/Region']))\n",
    "weather_155_final_df['Country/Region_Category'] = weather_155_final_df['Country/Region'].apply(lambda x: le.transform([x])[0])"
   ]
  },
  {
   "cell_type": "markdown",
   "id": "48efd197-9f77-4910-92eb-e951bc436378",
   "metadata": {
    "editable": true,
    "slideshow": {
     "slide_type": ""
    },
    "tags": []
   },
   "source": [
    "**Correlation Map**"
   ]
  },
  {
   "cell_type": "code",
   "execution_count": 75,
   "id": "d5d4bb7a-2365-4c72-b632-0461a6fd877f",
   "metadata": {},
   "outputs": [
    {
     "data": {
      "text/plain": [
       "<Axes: >"
      ]
     },
     "execution_count": 75,
     "metadata": {},
     "output_type": "execute_result"
    },
    {
     "data": {
      "image/png": "[encoded data removed]",
      "text/plain": [
       "<Figure size 640x480 with 2 Axes>"
      ]
     },
     "metadata": {},
     "output_type": "display_data"
    }
   ],
   "source": [
    "import seaborn as sns\n",
    "sns.heatmap(data=weather_155_final_df[['Day','Month','Country/Region_Category','PRCP', 'TAVG', 'TMAX', 'TMIN']].corr(), lw = 1)"
   ]
  },
  {
   "cell_type": "markdown",
   "id": "6cd83bc9-68c3-44f8-883c-fc73c04e1de0",
   "metadata": {},
   "source": [
    "## Regression (World)\n",
    "Predicting average temperature of whole dataset."
   ]
  },
  {
   "cell_type": "markdown",
   "id": "8f90af98-bd21-4805-8ff1-040fda43665f",
   "metadata": {},
   "source": [
    "### Linear Regression"
   ]
  },
  {
   "cell_type": "code",
   "execution_count": 82,
   "id": "9bd51cfb-7ecc-4ecf-8eee-4a5b05df84d8",
   "metadata": {},
   "outputs": [],
   "source": [
    "import math\n",
    "\n",
    "from sklearn.model_selection import train_test_split, cross_validate, cross_val_score, GridSearchCV\n",
    "from sklearn.metrics import mean_squared_error, mean_absolute_error\n",
    "from sklearn.linear_model import LinearRegression\n",
    "from sklearn.model_selection import train_test_split\n",
    "from sklearn.metrics import mean_squared_error, r2_score\n",
    "from sklearn.preprocessing import StandardScaler\n",
    "from sklearn.linear_model import Ridge\n",
    "\n",
    "import xgboost as xg"
   ]
  },
  {
   "cell_type": "code",
   "execution_count": 88,
   "id": "d9bc64f5-4edd-44c3-aaae-6e79ac7c4aa7",
   "metadata": {},
   "outputs": [],
   "source": [
    "def linearRegressionLocal(X_df, Y_df):\n",
    "    \n",
    "    X_train, X_test, y_train, y_test = train_test_split(X_df, Y_df, test_size=0.2, random_state=1)\n",
    "\n",
    "    model = LinearRegression()\n",
    "    model.fit(X_train, y_train)\n",
    "\n",
    "    # Make predictions on the training set\n",
    "    y_pred_train = model.predict(X_train)\n",
    "    \n",
    "    # Make predictions on the testing set\n",
    "    y_pred_test = model.predict(X_test)\n",
    "\n",
    "    # Calculate training performance metrics\n",
    "    train_mse = mean_squared_error(y_train, y_pred_train)\n",
    "    train_rmse = math.sqrt(train_mse)\n",
    "    train_r2 = r2_score(y_train, y_pred_train)\n",
    "\n",
    "    # Calculate testing performance metrics\n",
    "    test_mse = mean_squared_error(y_test, y_pred_test)\n",
    "    test_rmse = math.sqrt(test_mse)\n",
    "    test_r2 = r2_score(y_test, y_pred_test)\n",
    "    \n",
    "    return model, train_mse, train_rmse ,train_r2, test_mse, test_rmse, test_r2"
   ]
  },
  {
   "cell_type": "code",
   "execution_count": 90,
   "id": "64d2e113-6531-4fdd-969c-6b248398b730",
   "metadata": {},
   "outputs": [
    {
     "name": "stdout",
     "output_type": "stream",
     "text": [
      "Training MSE:   33.19693597287536\n",
      "Training RMSE:  5.761678225384975\n",
      "Training R2:    0.7581037190639903\n",
      "Testing MSE:    33.419100386708294\n",
      "Testing RMSE:   5.780925564882175\n",
      "Testing R2:     0.7567729444703437\n"
     ]
    }
   ],
   "source": [
    "X = weather_155_final_df[['Day','Month','Country/Region_Category', 'PRCP', 'TMAX', 'TMIN']]\n",
    "y = weather_155_final_df['TAVG']\n",
    "estimator, train_mse, train_rmse ,train_r2, test_mse, test_rmse, test_r2 = linearRegressionLocal(X, y)\n",
    "print(\"Training MSE:  \", train_mse)\n",
    "print(\"Training RMSE: \", train_rmse)\n",
    "print(\"Training R2:   \", train_r2)\n",
    "print(\"Testing MSE:   \", test_mse)\n",
    "print(\"Testing RMSE:  \", test_rmse)\n",
    "print(\"Testing R2:    \", test_r2)"
   ]
  },
  {
   "cell_type": "markdown",
   "id": "ad7a979d-208a-4150-9bc1-b34364957f80",
   "metadata": {},
   "source": [
    "#### Hyper Parameter Tuning"
   ]
  },
  {
   "cell_type": "code",
   "execution_count": 92,
   "id": "aa4dde24-0159-489a-9ff7-98d6935cedc6",
   "metadata": {},
   "outputs": [
    {
     "data": {
      "text/plain": [
       "{'copy_X': True, 'fit_intercept': True, 'n_jobs': None, 'positive': False}"
      ]
     },
     "execution_count": 92,
     "metadata": {},
     "output_type": "execute_result"
    }
   ],
   "source": [
    "estimator.get_params()"
   ]
  },
  {
   "cell_type": "markdown",
   "id": "31dd5396-c6d9-427f-9e01-38667c028722",
   "metadata": {},
   "source": [
    "n_jobs is used to run training over multiple processor so it's not related to actual training rather it's responsible for speedup process so it is ignored(None as default) during grid search. copy_X is also a configuration parameter. "
   ]
  },
  {
   "cell_type": "code",
   "execution_count": 107,
   "id": "4db0d4e5-ab03-4131-a1dc-0963f5d6b2ac",
   "metadata": {},
   "outputs": [],
   "source": [
    "from sklearn.model_selection import GridSearchCV"
   ]
  },
  {
   "cell_type": "code",
   "execution_count": 106,
   "id": "1e6cc661-a391-4df9-9125-64ebf3449e4c",
   "metadata": {},
   "outputs": [],
   "source": [
    "param_grid = [{'fit_intercept': [True, False],'positive': [True, False]}]"
   ]
  },
  {
   "cell_type": "code",
   "execution_count": 115,
   "id": "ff203f7e-ba39-44b3-87cf-926f8afbf2ed",
   "metadata": {},
   "outputs": [
    {
     "name": "stdout",
     "output_type": "stream",
     "text": [
      "Training MSE:   33.19693597287536\n",
      "Training RMSE:  5.761678225384975\n",
      "Training R2:    0.7581037190639903\n",
      "Testing MSE:    33.419100386708294\n",
      "Testing RMSE:   5.780925564882175\n",
      "Testing R2:     0.7567729444703437\n",
      "Best Params:     {'fit_intercept': True, 'positive': False}\n"
     ]
    }
   ],
   "source": [
    "X = weather_155_final_df[['Day','Month','Country/Region_Category', 'PRCP', 'TMAX', 'TMIN']]\n",
    "y = weather_155_final_df['TAVG']\n",
    "\n",
    "X_train, X_test, y_train, y_test = train_test_split(X, y, test_size=0.2, random_state=1)\n",
    "grid_search = GridSearchCV(estimator, param_grid, cv=5, scoring='neg_mean_squared_error', n_jobs=-1)\n",
    "grid_search.fit(X_train, y_train)\n",
    "\n",
    "best_params = grid_search.best_params_\n",
    "best_model = grid_search.best_estimator_\n",
    "\n",
    "\n",
    "# Make predictions on the training set\n",
    "y_pred_train = best_model.predict(X_train)\n",
    "    \n",
    "# Make predictions on the testing set\n",
    "y_pred_test = best_model.predict(X_test)\n",
    "\n",
    "# Calculate training performance metrics\n",
    "train_mse = mean_squared_error(y_train, y_pred_train)\n",
    "train_rmse = math.sqrt(train_mse)\n",
    "train_r2 = r2_score(y_train, y_pred_train)\n",
    "\n",
    "# Calculate testing performance metrics\n",
    "test_mse = mean_squared_error(y_test, y_pred_test)\n",
    "test_rmse = math.sqrt(test_mse)\n",
    "test_r2 = r2_score(y_test, y_pred_test)\n",
    "\n",
    "print(\"Training MSE:  \", train_mse)\n",
    "print(\"Training RMSE: \", train_rmse)\n",
    "print(\"Training R2:   \", train_r2)\n",
    "print(\"Testing MSE:   \", test_mse)\n",
    "print(\"Testing RMSE:  \", test_rmse)\n",
    "print(\"Testing R2:    \", test_r2)\n",
    "print(\"Best Params:    \", best_params)"
   ]
  },
  {
   "cell_type": "markdown",
   "id": "d804bcbb-abce-4c46-98c2-29f5c8b24b74",
   "metadata": {},
   "source": [
    "### Ridge Regression"
   ]
  },
  {
   "cell_type": "code",
   "execution_count": 119,
   "id": "8691fa0f-f21d-4723-b78a-0e1eefd25d93",
   "metadata": {},
   "outputs": [],
   "source": [
    "def ridgeRegressionLocal(X_df, Y_df):\n",
    "    \n",
    "    X_train, X_test, y_train, y_test = train_test_split(X_df, Y_df, test_size=0.2, random_state=1)\n",
    "    model = Ridge(alpha=0.1)\n",
    "\n",
    "    model.fit(X_train, y_train)\n",
    "\n",
    "    \n",
    "    # Make predictions on the training set\n",
    "    y_pred_train = model.predict(X_train)\n",
    "    \n",
    "    # Make predictions on the testing set\n",
    "    y_pred_test = model.predict(X_test)\n",
    "\n",
    "    # Calculate training performance metrics\n",
    "    train_mse = mean_squared_error(y_train, y_pred_train)\n",
    "    train_rmse = math.sqrt(train_mse)\n",
    "    train_r2 = r2_score(y_train, y_pred_train)\n",
    "\n",
    "    # Calculate testing performance metrics\n",
    "    test_mse = mean_squared_error(y_test, y_pred_test)\n",
    "    test_rmse = math.sqrt(test_mse)\n",
    "    test_r2 = r2_score(y_test, y_pred_test)\n",
    "    \n",
    "    return model, train_mse, train_rmse ,train_r2, test_mse, test_rmse, test_r2"
   ]
  },
  {
   "cell_type": "code",
   "execution_count": 121,
   "id": "92b57e54-e2ea-4a55-9c8c-47fdda9ab6ed",
   "metadata": {},
   "outputs": [
    {
     "name": "stdout",
     "output_type": "stream",
     "text": [
      "Training MSE:   33.196935972875345\n",
      "Training RMSE:  5.7616782253849745\n",
      "Training R2:    0.7581037190639904\n",
      "Testing MSE:    33.41910038659882\n",
      "Testing RMSE:   5.780925564872707\n",
      "Testing R2:     0.7567729444711404\n"
     ]
    }
   ],
   "source": [
    "X = weather_155_final_df[['Day','Month','Country/Region_Category', 'PRCP', 'TMAX', 'TMIN']]\n",
    "y = weather_155_final_df['TAVG']\n",
    "estimator, train_mse, train_rmse ,train_r2, test_mse, test_rmse, test_r2 = ridgeRegressionLocal(X, y)\n",
    "print(\"Training MSE:  \", train_mse)\n",
    "print(\"Training RMSE: \", train_rmse)\n",
    "print(\"Training R2:   \", train_r2)\n",
    "print(\"Testing MSE:   \", test_mse)\n",
    "print(\"Testing RMSE:  \", test_rmse)\n",
    "print(\"Testing R2:    \", test_r2)"
   ]
  },
  {
   "cell_type": "markdown",
   "id": "45708416-5dc1-4fc0-ba2c-ef96ac47c5d3",
   "metadata": {},
   "source": [
    "#### Hyper Parameter Tuning"
   ]
  },
  {
   "cell_type": "code",
   "execution_count": 123,
   "id": "abe781b3-6840-45b2-bf96-d557644e99fc",
   "metadata": {},
   "outputs": [
    {
     "data": {
      "text/plain": [
       "{'alpha': 0.1,\n",
       " 'copy_X': True,\n",
       " 'fit_intercept': True,\n",
       " 'max_iter': None,\n",
       " 'positive': False,\n",
       " 'random_state': None,\n",
       " 'solver': 'auto',\n",
       " 'tol': 0.0001}"
      ]
     },
     "execution_count": 123,
     "metadata": {},
     "output_type": "execute_result"
    }
   ],
   "source": [
    "estimator.get_params()"
   ]
  },
  {
   "cell_type": "code",
   "execution_count": 130,
   "id": "137062f7-75e8-43ab-870b-4e955ad22f20",
   "metadata": {},
   "outputs": [],
   "source": [
    "param_grid = {\n",
    "    'alpha': [0.001, 0.01, 0.1, 1.0, 10.0],\n",
    "    'fit_intercept': [True, False],\n",
    "    'positive':[True, False],\n",
    "    # 'solver': ['auto', 'svd', 'cholesky', 'lsqr', 'sparse_cg', 'sag', 'saga'],\n",
    "    'solver': ['auto'],\n",
    "    'tol': [1e-4, 1e-3, 1e-2],\n",
    "}"
   ]
  },
  {
   "cell_type": "code",
   "execution_count": 131,
   "id": "fc2b3263-973f-4fe8-bac8-b3e3edffed6c",
   "metadata": {},
   "outputs": [
    {
     "name": "stdout",
     "output_type": "stream",
     "text": [
      "Training MSE:   33.19693597287843\n",
      "Training RMSE:  5.761678225385242\n",
      "Training R2:    0.758103719063968\n",
      "Testing MSE:    33.41910037576384\n",
      "Testing RMSE:   5.7809255639355746\n",
      "Testing R2:     0.7567729445499983\n",
      "Best Params:     {'alpha': 10.0, 'fit_intercept': True, 'positive': False, 'solver': 'auto', 'tol': 0.0001}\n"
     ]
    }
   ],
   "source": [
    "X = weather_155_final_df[['Day','Month','Country/Region_Category', 'PRCP', 'TMAX', 'TMIN']]\n",
    "y = weather_155_final_df['TAVG']\n",
    "\n",
    "X_train, X_test, y_train, y_test = train_test_split(X, y, test_size=0.2, random_state=1)\n",
    "grid_search = GridSearchCV(estimator, param_grid, cv=5, scoring=None, n_jobs=1)\n",
    "grid_search.fit(X_train, y_train)\n",
    "\n",
    "best_params = grid_search.best_params_\n",
    "best_model = grid_search.best_estimator_\n",
    "\n",
    "y_pred_train = best_model.predict(X_train)\n",
    "y_pred_test = best_model.predict(X_test)\n",
    "\n",
    "train_mse = mean_squared_error(y_train, y_pred_train)\n",
    "train_rmse = math.sqrt(train_mse)\n",
    "train_r2 = r2_score(y_train, y_pred_train)\n",
    "\n",
    "test_mse = mean_squared_error(y_test, y_pred_test)\n",
    "test_rmse = math.sqrt(test_mse)\n",
    "test_r2 = r2_score(y_test, y_pred_test)\n",
    "\n",
    "print(\"Training MSE:  \", train_mse)\n",
    "print(\"Training RMSE: \", train_rmse)\n",
    "print(\"Training R2:   \", train_r2)\n",
    "print(\"Testing MSE:   \", test_mse)\n",
    "print(\"Testing RMSE:  \", test_rmse)\n",
    "print(\"Testing R2:    \", test_r2)\n",
    "print(\"Best Params:    \", best_params)"
   ]
  },
  {
   "cell_type": "markdown",
   "id": "36950948-cd25-4907-8949-b00af4f143c2",
   "metadata": {},
   "source": [
    "### XGBRegressor"
   ]
  },
  {
   "cell_type": "code",
   "execution_count": 163,
   "id": "5dcdf2a4-e1e8-4a04-b14d-164708092f5b",
   "metadata": {},
   "outputs": [],
   "source": [
    "def XGBRegressorLocal(X_df, Y_df):\n",
    "    \n",
    "    X_train, X_test, y_train, y_test = train_test_split(X_df, Y_df, test_size=0.2, random_state=1)\n",
    "\n",
    "    model = xg.XGBRegressor(verbosity = 0, silent=True)\n",
    "    model.fit(X_train, y_train)\n",
    "\n",
    "    \n",
    "    y_pred_train = model.predict(X_train)\n",
    "    y_pred_test = model.predict(X_test)\n",
    "\n",
    "    train_mse = mean_squared_error(y_train, y_pred_train)\n",
    "    train_rmse = math.sqrt(train_mse)\n",
    "    train_r2 = r2_score(y_train, y_pred_train)\n",
    "\n",
    "    test_mse = mean_squared_error(y_test, y_pred_test)\n",
    "    test_rmse = math.sqrt(test_mse)\n",
    "    test_r2 = r2_score(y_test, y_pred_test)\n",
    "    \n",
    "    return model, train_mse, train_rmse ,train_r2, test_mse, test_rmse, test_r2"
   ]
  },
  {
   "cell_type": "code",
   "execution_count": 164,
   "id": "af98ccde-9f01-421f-b06b-a1dcb27a2dd0",
   "metadata": {},
   "outputs": [],
   "source": [
    "# import warnings\n",
    "# warnings.filterwarnings(\"ignore\", category=FutureWarning)"
   ]
  },
  {
   "cell_type": "code",
   "execution_count": 165,
   "id": "2f50907a-6d2b-4b92-a21f-a404c35c1263",
   "metadata": {},
   "outputs": [
    {
     "name": "stdout",
     "output_type": "stream",
     "text": [
      "Training MSE:   9.697421366707328\n",
      "Training RMSE:  3.1140682983369725\n",
      "Training R2:    0.929337750773367\n",
      "Testing MSE:    9.984360204986979\n",
      "Testing RMSE:   3.159803823813589\n",
      "Testing R2:     0.927332977072826\n"
     ]
    }
   ],
   "source": [
    "X = weather_155_final_df[['Day','Month','Country/Region_Category', 'PRCP', 'TMAX', 'TMIN']]\n",
    "y = weather_155_final_df['TAVG']\n",
    "estimator, train_mse, train_rmse ,train_r2, test_mse, test_rmse, test_r2 = XGBRegressorLocal(X, y)\n",
    "print(\"Training MSE:  \", train_mse)\n",
    "print(\"Training RMSE: \", train_rmse)\n",
    "print(\"Training R2:   \", train_r2)\n",
    "print(\"Testing MSE:   \", test_mse)\n",
    "print(\"Testing RMSE:  \", test_rmse)\n",
    "print(\"Testing R2:    \", test_r2)"
   ]
  },
  {
   "cell_type": "markdown",
   "id": "0f938ae4-44fa-4f20-ac4f-d643cb8e6c20",
   "metadata": {},
   "source": [
    "#### Hyper Parameter Tuning"
   ]
  },
  {
   "cell_type": "code",
   "execution_count": 166,
   "id": "dc19aeec-26e5-4a67-8422-56df9aad939d",
   "metadata": {},
   "outputs": [
    {
     "data": {
      "text/plain": [
       "{'objective': 'reg:squarederror',\n",
       " 'base_score': None,\n",
       " 'booster': None,\n",
       " 'callbacks': None,\n",
       " 'colsample_bylevel': None,\n",
       " 'colsample_bynode': None,\n",
       " 'colsample_bytree': None,\n",
       " 'device': None,\n",
       " 'early_stopping_rounds': None,\n",
       " 'enable_categorical': False,\n",
       " 'eval_metric': None,\n",
       " 'feature_types': None,\n",
       " 'gamma': None,\n",
       " 'grow_policy': None,\n",
       " 'importance_type': None,\n",
       " 'interaction_constraints': None,\n",
       " 'learning_rate': None,\n",
       " 'max_bin': None,\n",
       " 'max_cat_threshold': None,\n",
       " 'max_cat_to_onehot': None,\n",
       " 'max_delta_step': None,\n",
       " 'max_depth': None,\n",
       " 'max_leaves': None,\n",
       " 'min_child_weight': None,\n",
       " 'missing': nan,\n",
       " 'monotone_constraints': None,\n",
       " 'multi_strategy': None,\n",
       " 'n_estimators': None,\n",
       " 'n_jobs': None,\n",
       " 'num_parallel_tree': None,\n",
       " 'random_state': None,\n",
       " 'reg_alpha': None,\n",
       " 'reg_lambda': None,\n",
       " 'sampling_method': None,\n",
       " 'scale_pos_weight': None,\n",
       " 'subsample': None,\n",
       " 'tree_method': None,\n",
       " 'validate_parameters': None,\n",
       " 'verbosity': 0,\n",
       " 'silent': True}"
      ]
     },
     "execution_count": 166,
     "metadata": {},
     "output_type": "execute_result"
    }
   ],
   "source": [
    "estimator.get_params()"
   ]
  },
  {
   "cell_type": "markdown",
   "id": "dd073e0d-bb56-426c-af52-2ceb4f248ad5",
   "metadata": {},
   "source": [
    "That is lots of params, Have to select some of them which is more relevant"
   ]
  },
  {
   "cell_type": "code",
   "execution_count": 192,
   "id": "aae90bee-d9f5-42d4-bb2f-16ccc6913409",
   "metadata": {},
   "outputs": [],
   "source": [
    "# https://www.kaggle.com/code/tilii7/hyperparameter-grid-search-with-xgboost\n",
    "param_grid = {\n",
    "    'n_estimators': [100, 200],\n",
    "    'learning_rate': [0.1, 0.2],\n",
    "}"
   ]
  },
  {
   "cell_type": "code",
   "execution_count": 191,
   "id": "8608ee5b-4528-433d-855c-a23f7bedf697",
   "metadata": {},
   "outputs": [
    {
     "name": "stdout",
     "output_type": "stream",
     "text": [
      "Training MSE:   9.310983830889292\n",
      "Training RMSE:  3.0513904749948493\n",
      "Training R2:    0.9321536071163993\n",
      "Testing MSE:    9.61084400252294\n",
      "Testing RMSE:   3.100136126450408\n",
      "Testing R2:     0.9300514597688498\n",
      "Best Params:     {'learning_rate': 0.2, 'n_estimators': 200}\n"
     ]
    }
   ],
   "source": [
    "X = weather_155_final_df[['Day','Month','Country/Region_Category', 'PRCP', 'TMAX', 'TMIN']]\n",
    "y = weather_155_final_df['TAVG']\n",
    "\n",
    "X_train, X_test, y_train, y_test = train_test_split(X, y, test_size=0.2, random_state=1)\n",
    "grid_search = GridSearchCV(estimator, param_grid, cv=5, scoring=None, n_jobs=2)\n",
    "grid_search.fit(X_train, y_train)\n",
    "\n",
    "best_params = grid_search.best_params_\n",
    "best_model = grid_search.best_estimator_\n",
    "\n",
    "y_pred_train = best_model.predict(X_train)\n",
    "y_pred_test = best_model.predict(X_test)\n",
    "\n",
    "train_mse = mean_squared_error(y_train, y_pred_train)\n",
    "train_rmse = math.sqrt(train_mse)\n",
    "train_r2 = r2_score(y_train, y_pred_train)\n",
    "\n",
    "test_mse = mean_squared_error(y_test, y_pred_test)\n",
    "test_rmse = math.sqrt(test_mse)\n",
    "test_r2 = r2_score(y_test, y_pred_test)\n",
    "\n",
    "print(\"Training MSE:  \", train_mse)\n",
    "print(\"Training RMSE: \", train_rmse)\n",
    "print(\"Training R2:   \", train_r2)\n",
    "print(\"Testing MSE:   \", test_mse)\n",
    "print(\"Testing RMSE:  \", test_rmse)\n",
    "print(\"Testing R2:    \", test_r2)\n",
    "print(\"Best Params:    \", best_params)"
   ]
  },
  {
   "cell_type": "markdown",
   "id": "08e24966-0090-49ff-bbbd-b1b2faa20e36",
   "metadata": {},
   "source": [
    "**XGBRegressor tends to learn better with parameter {'learning_rate': 0.2, 'n_estimators': 200} over ['Day','Month','Country/Region_Category', 'PRCP', 'TMAX', 'TMIN'] feature and ['TAVG'] as target.** \r\n"
   ]
  },
  {
   "cell_type": "markdown",
   "id": "ba5e2f1f-1e4f-4c00-8a9a-ae495f4d0b39",
   "metadata": {},
   "source": [
    "## Regression (China)\n",
    "Predicting average temperature of China."
   ]
  },
  {
   "cell_type": "markdown",
   "id": "1faeece0-7d26-41a1-bdc3-44da593e8f7f",
   "metadata": {},
   "source": [
    "### Preprocessing"
   ]
  },
  {
   "cell_type": "code",
   "execution_count": 193,
   "id": "779e90d3-c7db-4995-980c-40367399d26d",
   "metadata": {},
   "outputs": [
    {
     "name": "stdout",
     "output_type": "stream",
     "text": [
      "<class 'pandas.core.frame.DataFrame'>\n",
      "Index: 38949 entries, 65576 to 104524\n",
      "Data columns (total 23 columns):\n",
      " #   Column           Non-Null Count  Dtype  \n",
      "---  ------           --------------  -----  \n",
      " 0   STATION          38949 non-null  object \n",
      " 1   Country/Region   38949 non-null  object \n",
      " 2   DATE             38949 non-null  object \n",
      " 3   Year             38949 non-null  int64  \n",
      " 4   Month            38949 non-null  int64  \n",
      " 5   Day              38949 non-null  int64  \n",
      " 6   PRCP             37457 non-null  float64\n",
      " 7   SNWD             2056 non-null   float64\n",
      " 8   TAVG             38949 non-null  float64\n",
      " 9   TMAX             36513 non-null  float64\n",
      " 10  TMIN             36320 non-null  float64\n",
      " 11  SNOW             0 non-null      float64\n",
      " 12  LATITUDE         38949 non-null  float64\n",
      " 13  LONGITUDE        38949 non-null  float64\n",
      " 14  ELEVATION        38949 non-null  float64\n",
      " 15  PRCP_ATTRIBUTES  0 non-null      object \n",
      " 16  TAVG_ATTRIBUTES  0 non-null      object \n",
      " 17  TMAX_ATTRIBUTES  0 non-null      object \n",
      " 18  TMIN_ATTRIBUTES  0 non-null      object \n",
      " 19  DAPR             0 non-null      float64\n",
      " 20  MDPR             0 non-null      float64\n",
      " 21  WESD             0 non-null      float64\n",
      " 22  SNWD_ATTRIBUTES  0 non-null      object \n",
      "dtypes: float64(12), int64(3), object(8)\n",
      "memory usage: 7.1+ MB\n"
     ]
    }
   ],
   "source": [
    "weather_155_chi_df.info()"
   ]
  },
  {
   "cell_type": "code",
   "execution_count": 194,
   "id": "5e045e1e-096a-40b2-9632-dcf10925b99b",
   "metadata": {},
   "outputs": [
    {
     "data": {
      "text/plain": [
       "STATION                0\n",
       "Country/Region         0\n",
       "DATE                   0\n",
       "Year                   0\n",
       "Month                  0\n",
       "Day                    0\n",
       "PRCP                1492\n",
       "SNWD               36893\n",
       "TAVG                   0\n",
       "TMAX                2436\n",
       "TMIN                2629\n",
       "SNOW               38949\n",
       "LATITUDE               0\n",
       "LONGITUDE              0\n",
       "ELEVATION              0\n",
       "PRCP_ATTRIBUTES    38949\n",
       "TAVG_ATTRIBUTES    38949\n",
       "TMAX_ATTRIBUTES    38949\n",
       "TMIN_ATTRIBUTES    38949\n",
       "DAPR               38949\n",
       "MDPR               38949\n",
       "WESD               38949\n",
       "SNWD_ATTRIBUTES    38949\n",
       "dtype: int64"
      ]
     },
     "execution_count": 194,
     "metadata": {},
     "output_type": "execute_result"
    }
   ],
   "source": [
    "weather_155_chi_df.isnull().sum()"
   ]
  },
  {
   "cell_type": "code",
   "execution_count": 195,
   "id": "8589a798-9611-4372-ad14-ab87994e10e1",
   "metadata": {},
   "outputs": [],
   "source": [
    "weather_155_chi_df = weather_155_chi_df.drop(['SNWD','SNOW','PRCP_ATTRIBUTES', 'TAVG_ATTRIBUTES', 'TMAX_ATTRIBUTES', 'TMIN_ATTRIBUTES', 'DAPR', 'MDPR', 'WESD', 'SNWD_ATTRIBUTES'], axis = 1)"
   ]
  },
  {
   "cell_type": "code",
   "execution_count": 196,
   "id": "c00fc6c3-675f-42c7-abc3-7f8cf4165646",
   "metadata": {},
   "outputs": [
    {
     "data": {
      "text/plain": [
       "STATION              0\n",
       "Country/Region       0\n",
       "DATE                 0\n",
       "Year                 0\n",
       "Month                0\n",
       "Day                  0\n",
       "PRCP              1492\n",
       "TAVG                 0\n",
       "TMAX              2436\n",
       "TMIN              2629\n",
       "LATITUDE             0\n",
       "LONGITUDE            0\n",
       "ELEVATION            0\n",
       "dtype: int64"
      ]
     },
     "execution_count": 196,
     "metadata": {},
     "output_type": "execute_result"
    }
   ],
   "source": [
    "weather_155_chi_df.isnull().sum()"
   ]
  },
  {
   "cell_type": "markdown",
   "id": "edcd89a9-27a4-448c-b36a-25b8c6ff681f",
   "metadata": {},
   "source": [
    "**Handling rest of the missing values**"
   ]
  },
  {
   "cell_type": "code",
   "execution_count": 198,
   "id": "0faadecf-149b-4026-aa37-c9d89dfb1ada",
   "metadata": {},
   "outputs": [],
   "source": [
    "variables = ['PRCP', 'TMAX','TMIN']\n",
    "weather_155_chi_df[variables] = weather_155_chi_df[variables].fillna(weather_155_chi_df[variables].median())"
   ]
  },
  {
   "cell_type": "code",
   "execution_count": 200,
   "id": "dab624bb-503f-4b03-a91d-4d69d9d69ac9",
   "metadata": {},
   "outputs": [
    {
     "data": {
      "text/plain": [
       "STATION           0\n",
       "Country/Region    0\n",
       "DATE              0\n",
       "Year              0\n",
       "Month             0\n",
       "Day               0\n",
       "PRCP              0\n",
       "TAVG              0\n",
       "TMAX              0\n",
       "TMIN              0\n",
       "LATITUDE          0\n",
       "LONGITUDE         0\n",
       "ELEVATION         0\n",
       "dtype: int64"
      ]
     },
     "execution_count": 200,
     "metadata": {},
     "output_type": "execute_result"
    }
   ],
   "source": [
    "weather_155_chi_df.isnull().sum()"
   ]
  },
  {
   "cell_type": "code",
   "execution_count": 202,
   "id": "fb1cd817-e46f-42cd-a6a0-712dad2d8ca3",
   "metadata": {},
   "outputs": [
    {
     "data": {
      "text/plain": [
       "<Axes: >"
      ]
     },
     "execution_count": 202,
     "metadata": {},
     "output_type": "execute_result"
    },
    {
     "data": {
      "image/png": "[encoded data removed]",
      "text/plain": [
       "<Figure size 640x480 with 2 Axes>"
      ]
     },
     "metadata": {},
     "output_type": "display_data"
    }
   ],
   "source": [
    "import seaborn as sns\n",
    "sns.heatmap(data=weather_155_chi_df[['Day','Month','PRCP', 'TAVG', 'TMAX', 'TMIN','LATITUDE', 'LONGITUDE', 'ELEVATION']].corr(), lw = 1)"
   ]
  },
  {
   "cell_type": "code",
   "execution_count": 227,
   "id": "7e90d0d0-ae00-493f-b385-88013cb7c303",
   "metadata": {},
   "outputs": [],
   "source": []
  },
  {
   "cell_type": "markdown",
   "id": "7e2c84c2-d88b-48d0-8ab6-eaf6508b35d6",
   "metadata": {},
   "source": [
    "### Linear Regression"
   ]
  },
  {
   "cell_type": "code",
   "execution_count": 229,
   "id": "414cae92-5a60-4088-add9-a302cffae4d7",
   "metadata": {},
   "outputs": [],
   "source": [
    "def linearRegressionScaledLocal(X_df, Y_df):\n",
    "    \n",
    "    X_train, X_test, y_train, y_test = train_test_split(X_df, Y_df, test_size=0.2, random_state=1)\n",
    "\n",
    "    # Scaling\n",
    "    size_scaler = preprocessing.StandardScaler().fit(X_train)\n",
    "    X_train_scaled = size_scaler.transform(X_train)\n",
    "    X_test_scaled = size_scaler.transform(X_test)\n",
    "    \n",
    "    model = LinearRegression()\n",
    "    model.fit(X_train_scaled, y_train)\n",
    "\n",
    "    # Make predictions on the training set\n",
    "    y_pred_train = model.predict(X_train_scaled)\n",
    "    \n",
    "    # Make predictions on the testing set\n",
    "    y_pred_test = model.predict(X_test_scaled)\n",
    "\n",
    "    # Calculate training performance metrics\n",
    "    train_mse = mean_squared_error(y_train, y_pred_train)\n",
    "    train_rmse = math.sqrt(train_mse)\n",
    "    train_r2 = r2_score(y_train, y_pred_train)\n",
    "\n",
    "    # Calculate testing performance metrics\n",
    "    test_mse = mean_squared_error(y_test, y_pred_test)\n",
    "    test_rmse = math.sqrt(test_mse)\n",
    "    test_r2 = r2_score(y_test, y_pred_test)\n",
    "    \n",
    "    return model, train_mse, train_rmse ,train_r2, test_mse, test_rmse, test_r2"
   ]
  },
  {
   "cell_type": "code",
   "execution_count": 230,
   "id": "db5057aa-be1b-4e5b-8758-9c1ddb17e83d",
   "metadata": {},
   "outputs": [
    {
     "name": "stdout",
     "output_type": "stream",
     "text": [
      "Training MSE:   6.2269766740301\n",
      "Training RMSE:  2.4953910863890854\n",
      "Training R2:    0.953946680903502\n",
      "Testing MSE:    6.4713106277043515\n",
      "Testing RMSE:   2.543877085809051\n",
      "Testing R2:     0.9517849474909823\n"
     ]
    }
   ],
   "source": [
    "X = weather_155_chi_df[['Day','Month', 'PRCP', 'TMAX','TMIN', 'ELEVATION', 'LATITUDE', 'LONGITUDE']]\n",
    "y = weather_155_chi_df['TAVG']\n",
    "\n",
    "estimator, train_mse, train_rmse ,train_r2, test_mse, test_rmse, test_r2 = linearRegressionScaledLocal(X, y)\n",
    "print(\"Training MSE:  \", train_mse)\n",
    "print(\"Training RMSE: \", train_rmse)\n",
    "print(\"Training R2:   \", train_r2)\n",
    "print(\"Testing MSE:   \", test_mse)\n",
    "print(\"Testing RMSE:  \", test_rmse)\n",
    "print(\"Testing R2:    \", test_r2)"
   ]
  },
  {
   "cell_type": "markdown",
   "id": "1c12ed54-9914-47a7-8f4b-0e93b1883305",
   "metadata": {},
   "source": [
    "### Ridge Regression"
   ]
  },
  {
   "cell_type": "code",
   "execution_count": 209,
   "id": "052383d7-0dd9-4131-b454-0850f77c2d1f",
   "metadata": {},
   "outputs": [
    {
     "name": "stdout",
     "output_type": "stream",
     "text": [
      "Training MSE:   6.22697667404538\n",
      "Training RMSE:  2.495391086392147\n",
      "Training R2:    0.953946680903389\n",
      "Testing MSE:    6.471311353037582\n",
      "Testing RMSE:   2.5438772283735673\n",
      "Testing R2:     0.9517849420868251\n",
      "Best Params:     Ridge(alpha=0.1)\n"
     ]
    }
   ],
   "source": [
    "X = weather_155_chi_df[['Day','Month', 'PRCP', 'TMAX','TMIN', 'ELEVATION', 'LATITUDE', 'LONGITUDE']]\n",
    "y = weather_155_chi_df['TAVG']\n",
    "estimator, train_mse, train_rmse ,train_r2, test_mse, test_rmse, test_r2 = ridgeRegressionLocal(X, y)\n",
    "print(\"Training MSE:  \", train_mse)\n",
    "print(\"Training RMSE: \", train_rmse)\n",
    "print(\"Training R2:   \", train_r2)\n",
    "print(\"Testing MSE:   \", test_mse)\n",
    "print(\"Testing RMSE:  \", test_rmse)\n",
    "print(\"Testing R2:    \", test_r2)\n",
    "print(\"Best Params:    \", estimator)"
   ]
  },
  {
   "cell_type": "markdown",
   "id": "3d716680-bbaa-408c-b8af-832bb370b07d",
   "metadata": {},
   "source": [
    "#### Hyper Parameter Tuning"
   ]
  },
  {
   "cell_type": "code",
   "execution_count": 208,
   "id": "05575263-0f6b-4219-a82c-204170dbd844",
   "metadata": {},
   "outputs": [
    {
     "data": {
      "text/plain": [
       "{'alpha': 0.1,\n",
       " 'copy_X': True,\n",
       " 'fit_intercept': True,\n",
       " 'max_iter': None,\n",
       " 'positive': False,\n",
       " 'random_state': None,\n",
       " 'solver': 'auto',\n",
       " 'tol': 0.0001}"
      ]
     },
     "execution_count": 208,
     "metadata": {},
     "output_type": "execute_result"
    }
   ],
   "source": [
    "estimator.get_params()"
   ]
  },
  {
   "cell_type": "code",
   "execution_count": 220,
   "id": "11606628-a583-414c-8cd6-e40401f4e32e",
   "metadata": {},
   "outputs": [],
   "source": [
    "param_grid = {\n",
    "    'alpha': [0.01, 0.1, 1.0, 10.0, 20.0],\n",
    "    'solver': ['auto', 'svd', 'cholesky'],\n",
    "}"
   ]
  },
  {
   "cell_type": "code",
   "execution_count": 221,
   "id": "e7bb5930-26ad-4614-9946-aae1b6226370",
   "metadata": {},
   "outputs": [
    {
     "name": "stdout",
     "output_type": "stream",
     "text": [
      "Training MSE:   6.226977284323015\n",
      "Training RMSE:  2.495391208673104\n",
      "Training R2:    0.9539466763899128\n",
      "Testing MSE:    6.47145618930925\n",
      "Testing RMSE:   2.543905695836473\n",
      "Testing R2:     0.9517838629718134\n",
      "Best Params:     {'alpha': 20.0, 'solver': 'auto'}\n"
     ]
    }
   ],
   "source": [
    "X = weather_155_chi_df[['Day','Month', 'PRCP', 'TMAX','TMIN', 'ELEVATION', 'LATITUDE', 'LONGITUDE']]\n",
    "y = weather_155_chi_df['TAVG']\n",
    "\n",
    "X_train, X_test, y_train, y_test = train_test_split(X, y, test_size=0.2, random_state=1)\n",
    "grid_search = GridSearchCV(estimator, param_grid, cv=5, scoring=None, n_jobs=1)\n",
    "grid_search.fit(X_train, y_train)\n",
    "\n",
    "best_params = grid_search.best_params_\n",
    "best_model = grid_search.best_estimator_\n",
    "\n",
    "y_pred_train = best_model.predict(X_train)\n",
    "y_pred_test = best_model.predict(X_test)\n",
    "\n",
    "train_mse = mean_squared_error(y_train, y_pred_train)\n",
    "train_rmse = math.sqrt(train_mse)\n",
    "train_r2 = r2_score(y_train, y_pred_train)\n",
    "\n",
    "test_mse = mean_squared_error(y_test, y_pred_test)\n",
    "test_rmse = math.sqrt(test_mse)\n",
    "test_r2 = r2_score(y_test, y_pred_test)\n",
    "\n",
    "print(\"Training MSE:  \", train_mse)\n",
    "print(\"Training RMSE: \", train_rmse)\n",
    "print(\"Training R2:   \", train_r2)\n",
    "print(\"Testing MSE:   \", test_mse)\n",
    "print(\"Testing RMSE:  \", test_rmse)\n",
    "print(\"Testing R2:    \", test_r2)\n",
    "print(\"Best Params:    \", best_params)"
   ]
  },
  {
   "cell_type": "markdown",
   "id": "ad10e555-df39-48ce-8402-faea0571761e",
   "metadata": {},
   "source": [
    "### XGBRegressor"
   ]
  },
  {
   "cell_type": "code",
   "execution_count": 222,
   "id": "59c0e560-6242-4df1-bdf3-8f0c44b6485f",
   "metadata": {},
   "outputs": [
    {
     "name": "stdout",
     "output_type": "stream",
     "text": [
      "Training MSE:   1.673519439732654\n",
      "Training RMSE:  1.2936457937676193\n",
      "Training R2:    0.9876230265814823\n",
      "Testing MSE:    2.393106687797288\n",
      "Testing RMSE:   1.5469669317077492\n",
      "Testing R2:     0.9821699542411304\n"
     ]
    }
   ],
   "source": [
    "X = weather_155_chi_df[['Day','Month', 'PRCP', 'TMAX','TMIN', 'ELEVATION', 'LATITUDE', 'LONGITUDE']]\n",
    "y = weather_155_chi_df['TAVG']\n",
    "estimator, train_mse, train_rmse ,train_r2, test_mse, test_rmse, test_r2 = XGBRegressorLocal(X, y)\n",
    "print(\"Training MSE:  \", train_mse)\n",
    "print(\"Training RMSE: \", train_rmse)\n",
    "print(\"Training R2:   \", train_r2)\n",
    "print(\"Testing MSE:   \", test_mse)\n",
    "print(\"Testing RMSE:  \", test_rmse)\n",
    "print(\"Testing R2:    \", test_r2)"
   ]
  },
  {
   "cell_type": "markdown",
   "id": "0840d3ca-7f2b-4bd6-922e-972a594ba386",
   "metadata": {},
   "source": [
    "#### Hyper Parameter Tuning"
   ]
  },
  {
   "cell_type": "code",
   "execution_count": 223,
   "id": "725684f4-a782-4c59-bbd8-07859d121322",
   "metadata": {},
   "outputs": [
    {
     "data": {
      "text/plain": [
       "{'objective': 'reg:squarederror',\n",
       " 'base_score': None,\n",
       " 'booster': None,\n",
       " 'callbacks': None,\n",
       " 'colsample_bylevel': None,\n",
       " 'colsample_bynode': None,\n",
       " 'colsample_bytree': None,\n",
       " 'device': None,\n",
       " 'early_stopping_rounds': None,\n",
       " 'enable_categorical': False,\n",
       " 'eval_metric': None,\n",
       " 'feature_types': None,\n",
       " 'gamma': None,\n",
       " 'grow_policy': None,\n",
       " 'importance_type': None,\n",
       " 'interaction_constraints': None,\n",
       " 'learning_rate': None,\n",
       " 'max_bin': None,\n",
       " 'max_cat_threshold': None,\n",
       " 'max_cat_to_onehot': None,\n",
       " 'max_delta_step': None,\n",
       " 'max_depth': None,\n",
       " 'max_leaves': None,\n",
       " 'min_child_weight': None,\n",
       " 'missing': nan,\n",
       " 'monotone_constraints': None,\n",
       " 'multi_strategy': None,\n",
       " 'n_estimators': None,\n",
       " 'n_jobs': None,\n",
       " 'num_parallel_tree': None,\n",
       " 'random_state': None,\n",
       " 'reg_alpha': None,\n",
       " 'reg_lambda': None,\n",
       " 'sampling_method': None,\n",
       " 'scale_pos_weight': None,\n",
       " 'subsample': None,\n",
       " 'tree_method': None,\n",
       " 'validate_parameters': None,\n",
       " 'verbosity': 0,\n",
       " 'silent': True}"
      ]
     },
     "execution_count": 223,
     "metadata": {},
     "output_type": "execute_result"
    }
   ],
   "source": [
    "estimator.get_params()"
   ]
  },
  {
   "cell_type": "code",
   "execution_count": 224,
   "id": "ba5d1a32-ff2b-4854-8c3a-ef87b5ccbd0d",
   "metadata": {},
   "outputs": [],
   "source": [
    "# https://www.kaggle.com/code/tilii7/hyperparameter-grid-search-with-xgboost\n",
    "param_grid = {\n",
    "    'n_estimators': [100, 200],\n",
    "    'learning_rate': [0.1, 0.2],\n",
    "}"
   ]
  },
  {
   "cell_type": "code",
   "execution_count": 226,
   "id": "c649f8ac-b2f1-4d53-9cd6-1406d7f4642c",
   "metadata": {},
   "outputs": [
    {
     "name": "stdout",
     "output_type": "stream",
     "text": [
      "Training MSE:   1.4696721357486977\n",
      "Training RMSE:  1.2123003488198367\n",
      "Training R2:    0.9891306353985325\n",
      "Testing MSE:    2.301320028966781\n",
      "Testing RMSE:   1.5170102270475243\n",
      "Testing R2:     0.982853818581716\n",
      "Best Params:     {'learning_rate': 0.2, 'n_estimators': 200}\n"
     ]
    }
   ],
   "source": [
    "X = weather_155_chi_df[['Day','Month', 'PRCP', 'TMAX','TMIN', 'ELEVATION', 'LATITUDE', 'LONGITUDE']]\n",
    "y = weather_155_chi_df['TAVG']\n",
    "\n",
    "X_train, X_test, y_train, y_test = train_test_split(X, y, test_size=0.2, random_state=1)\n",
    "grid_search = GridSearchCV(estimator, param_grid, cv=5, scoring=None, n_jobs=2)\n",
    "grid_search.fit(X_train, y_train)\n",
    "\n",
    "best_params = grid_search.best_params_\n",
    "best_model = grid_search.best_estimator_\n",
    "\n",
    "y_pred_train = best_model.predict(X_train)\n",
    "y_pred_test = best_model.predict(X_test)\n",
    "\n",
    "train_mse = mean_squared_error(y_train, y_pred_train)\n",
    "train_rmse = math.sqrt(train_mse)\n",
    "train_r2 = r2_score(y_train, y_pred_train)\n",
    "\n",
    "test_mse = mean_squared_error(y_test, y_pred_test)\n",
    "test_rmse = math.sqrt(test_mse)\n",
    "test_r2 = r2_score(y_test, y_pred_test)\n",
    "\n",
    "print(\"Training MSE:  \", train_mse)\n",
    "print(\"Training RMSE: \", train_rmse)\n",
    "print(\"Training R2:   \", train_r2)\n",
    "print(\"Testing MSE:   \", test_mse)\n",
    "print(\"Testing RMSE:  \", test_rmse)\n",
    "print(\"Testing R2:    \", test_r2)\n",
    "print(\"Best Params:    \", best_params)"
   ]
  }
 ],
 "metadata": {
  "kernelspec": {
   "display_name": "Python 3 (ipykernel)",
   "language": "python",
   "name": "python3"
  },
  "language_info": {
   "codemirror_mode": {
    "name": "ipython",
    "version": 3
   },
   "file_extension": ".py",
   "mimetype": "text/x-python",
   "name": "python",
   "nbconvert_exporter": "python",
   "pygments_lexer": "ipython3",
   "version": "3.11.5"
  }
 },
 "nbformat": 4,
 "nbformat_minor": 5
}
